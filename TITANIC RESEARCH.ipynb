{
 "cells": [
  {
   "cell_type": "markdown",
   "metadata": {},
   "source": [
    "### TITANIC DATA\n",
    "\n",
    "- WE HAVE TITANIC DATA FROM KAGGLE , DECIMALIZED & READY. WE ARE PREDICTING WHICH PASSENGER WILL SURVIVE ON THE SINKING SHIP\n",
    "- RUN DIFFERENT AI'S ON IT\n",
    "- I HAVE ANSWERS TO THE TEST SET IN DB AND CSV FILES\n",
    "\n"
   ]
  },
  {
   "cell_type": "code",
   "execution_count": 62,
   "metadata": {},
   "outputs": [],
   "source": [
    "from sklearn.datasets import *\n",
    "from sqlalchemy import create_engine\n",
    "import numpy\n",
    "import pandas\n",
    "from pandas import *\n",
    "import pandas.io.sql as psql\n",
    "import csv\n",
    "import datetime\n",
    "import matplotlib.pyplot as plt\n",
    "from matplotlib import style\n",
    "import matplotlib\n",
    "import psycopg2\n",
    "import glob, os\n",
    "from collections import OrderedDict\n",
    "import shutil\n",
    "import pdb\n",
    "from pdb import set_trace as bp\n",
    "from sklearn.ensemble import RandomForestClassifier\n",
    "from sklearn.neural_network import MLPClassifier \n",
    "from sklearn.linear_model import LogisticRegression"
   ]
  },
  {
   "cell_type": "code",
   "execution_count": 63,
   "metadata": {},
   "outputs": [],
   "source": [
    "fp=r'/Users/Aseem/titanic/' #path will change\n"
   ]
  },
  {
   "cell_type": "code",
   "execution_count": 64,
   "metadata": {
    "collapsed": true
   },
   "outputs": [],
   "source": [
    "# CONNECTING TO DB\n",
    "conn=psycopg2.connect(database=\"AI_DB_LOCAL\",user=\"Aseem\",host=\"localhost\")\n",
    "cur = conn.cursor()"
   ]
  },
  {
   "cell_type": "markdown",
   "metadata": {},
   "source": [
    "### RF\n",
    " RF CANNOT TELL YOU WHY IT CAME TO A PREDICTION"
   ]
  },
  {
   "cell_type": "code",
   "execution_count": 65,
   "metadata": {},
   "outputs": [
    {
     "name": "stdout",
     "output_type": "stream",
     "text": [
      "Random Forest Accuracy\n",
      "    total_trans  sum_of_accuracy  total_accuracy_perc\n",
      "0          418              306                73.21\n"
     ]
    }
   ],
   "source": [
    "#RANDOM FOREST\n",
    "df_train=pandas.read_csv(fp+'Train_1.csv')\n",
    "df_test=pandas.read_csv(fp+'Test_1.csv')\n",
    "features=df_train.columns[1:-1] #taking specific columns for training.ignoring ID and class column \n",
    "\n",
    "clf = RandomForestClassifier(n_estimators=350,n_jobs=2, random_state=0)# Create a random forest Classifier. By convention, clf means 'Classifier'\n",
    "\n",
    "clf.fit(df_train[features], df_train['survived']) #Training Random Forest . clf.fit(data,target)\n",
    "rf_pred=clf.predict(df_test[features])\n",
    "rf_prob=clf.predict_proba(df_test[features])\n",
    "decision_path\n",
    "df_test_prob=pandas.DataFrame(np.column_stack([[rf_prob[i,0] for i in range(len(rf_prob))],[rf_prob[i,1] for i in range(len(rf_prob))],rf_pred,df_test['passenger_id']]),columns=['rf_prob_c0','rf_prob_c1','rf_pred','passenger_id'])\n",
    "\n",
    "engine = create_engine('postgresql+psycopg2://Aseem:@localhost/AI_DB_LOCAL')\n",
    "\n",
    "df_test_prob.to_sql('titanic_rf_test_prob', engine,schema='titanic',if_exists='replace',index=False)\n",
    "\n",
    "rf_analysis=psql.read_sql(\"\"\"\n",
    "    select count(*) as total_trans,sum(accuracy) sum_of_accuracy,round((sum(accuracy)::numeric/count(*))*100,2) as total_accuracy_perc\n",
    "    from (\n",
    "        select *, case when rf_pred=survived::int then 1 else 0 end as accuracy\n",
    "        from(\n",
    "            select a.*,b.survived \n",
    "            from titanic.titanic_rf_test_prob a\n",
    "            left join titanic.test_answers b\n",
    "            on a.passenger_id=b.passengerid::int\n",
    "            )a\n",
    "        )b;\"\"\"\n",
    "           ,conn  )\n",
    "conn.commit()\n",
    "\n",
    "print('Random Forest Accuracy\\n',rf_analysis)"
   ]
  },
  {
   "cell_type": "code",
   "execution_count": 70,
   "metadata": {
    "scrolled": true
   },
   "outputs": [
    {
     "data": {
      "text/plain": [
       "(<891x114734 sparse matrix of type '<class 'numpy.int64'>'\n",
       " \twith 3291891 stored elements in Compressed Sparse Row format>,\n",
       " array([     0,    301,    638,    965,   1276,   1607,   1930,   2291,\n",
       "          2630,   2983,   3342,   3693,   4030,   4337,   4652,   5027,\n",
       "          5364,   5683,   6020,   6327,   6656,   6957,   7322,   7655,\n",
       "          7990,   8333,   8624,   8975,   9304,   9615,   9920,  10261,\n",
       "         10602,  10935,  11250,  11563,  11920,  12265,  12570,  12967,\n",
       "         13286,  13637,  13962,  14293,  14640,  14993,  15292,  15605,\n",
       "         15932,  16267,  16620,  17029,  17350,  17677,  17990,  18321,\n",
       "         18662,  18999,  19314,  19621,  19960,  20307,  20660,  21023,\n",
       "         21362,  21679,  21988,  22337,  22632,  22933,  23276,  23617,\n",
       "         23960,  24243,  24576,  24923,  25286,  25645,  25968,  26287,\n",
       "         26606,  26913,  27258,  27603,  27894,  28195,  28538,  28865,\n",
       "         29184,  29511,  29886,  30239,  30598,  30945,  31308,  31643,\n",
       "         31988,  32317,  32648,  32983,  33342,  33645,  33960,  34317,\n",
       "         34662,  34961,  35280,  35609,  35920,  36245,  36594,  36933,\n",
       "         37240,  37557,  37868,  38195,  38514,  38833,  39160,  39503,\n",
       "         39820,  40143,  40460,  40827,  41128,  41469,  41786,  42127,\n",
       "         42442,  42775,  43092,  43425,  43768,  44093,  44396,  44709,\n",
       "         45042,  45361,  45696,  46027,  46328,  46653,  46972,  47333,\n",
       "         47682,  47979,  48292,  48611,  48962,  49289,  49588,  49913,\n",
       "         50262,  50555,  50898,  51223,  51518,  51867,  52202,  52511,\n",
       "         52822,  53129,  53440,  53749,  54056,  54385,  54682,  54995,\n",
       "         55316,  55631,  55950,  56251,  56562,  56855,  57176,  57515,\n",
       "         57876,  58203,  58526,  58849,  59194,  59517,  59866,  60185,\n",
       "         60548,  60891,  61254,  61629,  61930,  62237,  62568,  62917,\n",
       "         63218,  63545,  63874,  64199,  64532,  64889,  65166,  65499,\n",
       "         65802,  66173,  66508,  66835,  67182,  67483,  67826,  68175,\n",
       "         68530,  68845,  69188,  69505,  69832,  70141,  70434,  70763,\n",
       "         71120,  71483,  71808,  72121,  72460,  72791,  73134,  73475,\n",
       "         73800,  74119,  74468,  74803,  75120,  75415,  75758,  76043,\n",
       "         76386,  76747,  77038,  77365,  77706,  78041,  78380,  78665,\n",
       "         79012,  79327,  79674,  80007,  80338,  80665,  80998,  81329,\n",
       "         81664,  82005,  82360,  82699,  83022,  83347,  83654,  83967,\n",
       "         84330,  84703,  85018,  85335,  85642,  85963,  86294,  86589,\n",
       "         86908,  87263,  87536,  87815,  88134,  88455,  88784,  89071,\n",
       "         89394,  89717,  90044,  90409,  90772,  91129,  91450,  91781,\n",
       "         92096,  92409,  92808,  93145,  93444,  93763,  94054,  94383,\n",
       "         94734,  95087,  95400,  95735,  96084,  96423,  96746,  97085,\n",
       "         97444,  97783,  98120,  98439,  98744,  99033,  99338,  99661,\n",
       "         99962, 100275, 100592, 100911, 101204, 101559, 101892, 102209,\n",
       "        102548, 102889, 103176, 103509, 103850, 104177, 104482, 104749,\n",
       "        105070, 105375, 105662, 106031, 106364, 106715, 107024, 107401,\n",
       "        107706, 108009, 108366, 108659, 109010, 109339, 109652, 109967,\n",
       "        110278, 110595, 110916, 111223, 111516, 111831, 112146, 112477,\n",
       "        112808, 113115, 113418, 113745, 114078, 114407, 114734]))"
      ]
     },
     "execution_count": 70,
     "metadata": {},
     "output_type": "execute_result"
    }
   ],
   "source": [
    "importances = clf.feature_importances_\n",
    "importances\n",
    "clf.decision_path(df_train[features]) "
   ]
  },
  {
   "cell_type": "markdown",
   "metadata": {},
   "source": [
    "### NIV2"
   ]
  },
  {
   "cell_type": "code",
   "execution_count": 53,
   "metadata": {},
   "outputs": [
    {
     "name": "stdout",
     "output_type": "stream",
     "text": [
      "NIV2 Accuracy\n",
      "    total_trans  sum_of_accuracy  total_accuracy_perc\n",
      "0          417              319                 76.5\n"
     ]
    }
   ],
   "source": [
    "#NIV2  conf_thresh=[0.8]  accuracy= [76.5%] \n",
    "\n",
    "df_test_prob_NI=pandas.read_csv(fp+'Probability/Test_1_prob.csv')\n",
    "df_test_prob2_NI=pandas.DataFrame(np.column_stack([df_test_prob_NI['passenger_id'],df_test_prob_NI['NFM_C0'],df_test_prob_NI['NFM_C1']])\n",
    "                 ,columns=['passenger_id','nfm_c0','nfm_c1'])\n",
    "df_test_prob2_NI.to_sql('titanic_niv2_test_prob', engine,schema='titanic',if_exists='replace',index=False)\n",
    "\n",
    "niv2_analysis=psql.read_sql(\"\"\"\n",
    "    --NIV2\n",
    "    select count(*) as total_trans,sum(accuracy) sum_of_accuracy,round((sum(accuracy)::numeric/count(*))*100,2) as total_accuracy_perc\n",
    "    from (\n",
    "        select *,case when pred_class=survived::int then 1 else 0 end as accuracy\n",
    "        from(\n",
    "            select a.*,b.survived ,case when a.nfm_c1>a.nfm_c0 then 1 when a.nfm_c0>a.nfm_c1 then 0 else -1 end as pred_class\n",
    "            from titanic.titanic_niv2_test_prob a\n",
    "            left join titanic.test_answers b\n",
    "            on a.passenger_id=b.passengerid::int\n",
    "            )a\n",
    "            where pred_class>-1\n",
    "        )b\n",
    "        ;\"\"\"\n",
    "         ,conn  )\n",
    "conn.commit()\n",
    "\n",
    "print('NIV2 Accuracy\\n',niv2_analysis)"
   ]
  }
 ],
 "metadata": {
  "kernelspec": {
   "display_name": "Python 3",
   "language": "python",
   "name": "python3"
  },
  "language_info": {
   "codemirror_mode": {
    "name": "ipython",
    "version": 3
   },
   "file_extension": ".py",
   "mimetype": "text/x-python",
   "name": "python",
   "nbconvert_exporter": "python",
   "pygments_lexer": "ipython3",
   "version": "3.6.8"
  }
 },
 "nbformat": 4,
 "nbformat_minor": 2
}
